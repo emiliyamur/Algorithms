{
 "cells": [
  {
   "cell_type": "markdown",
   "metadata": {},
   "source": [
    "### Урок 2. Масштабирование признаков. Регуляризация. Стохастический градиентный спуск."
   ]
  },
  {
   "cell_type": "code",
   "execution_count": 1,
   "metadata": {
    "colab": {},
    "colab_type": "code",
    "id": "_u5bV-OlT34p"
   },
   "outputs": [],
   "source": [
    "import numpy as np\n",
    "import matplotlib.pyplot as plt"
   ]
  },
  {
   "cell_type": "code",
   "execution_count": 2,
   "metadata": {
    "colab": {},
    "colab_type": "code",
    "id": "_n6il-AZaLuA"
   },
   "outputs": [],
   "source": [
    "X = np.array([[1, 1, 1, 1, 1, 1, 1, 1, 1, 1],\n",
    "              [1, 1, 2, 5, 3, 0, 5, 10, 1, 2],\n",
    "              [500, 700, 750, 600, 1450, 800, 1500, 2000, 450, 1000],\n",
    "              [1, 1, 2, 1, 2, 1, 3, 3, 1, 2]])"
   ]
  },
  {
   "cell_type": "code",
   "execution_count": 3,
   "metadata": {
    "colab": {},
    "colab_type": "code",
    "id": "x8yoci01ni-t"
   },
   "outputs": [],
   "source": [
    "y = [45, 55, 50, 55, 60, 35, 75, 80, 50, 60]"
   ]
  },
  {
   "cell_type": "markdown",
   "metadata": {},
   "source": [
    "Нормализация [0, 1]"
   ]
  },
  {
   "cell_type": "code",
   "execution_count": 4,
   "metadata": {
    "colab": {
     "base_uri": "https://localhost:8080/",
     "height": 34
    },
    "colab_type": "code",
    "id": "Ei5qeZO_aT6m",
    "outputId": "087819d3-202a-46c9-f87d-49e17953099c"
   },
   "outputs": [
    {
     "data": {
      "text/plain": [
       "(0, 10)"
      ]
     },
     "execution_count": 4,
     "metadata": {},
     "output_type": "execute_result"
    }
   ],
   "source": [
    "X[1].min(), X[1].max()"
   ]
  },
  {
   "cell_type": "code",
   "execution_count": 5,
   "metadata": {
    "colab": {
     "base_uri": "https://localhost:8080/",
     "height": 34
    },
    "colab_type": "code",
    "id": "L7wsW1Q7b4Ts",
    "outputId": "911044d6-32c1-475a-80cd-cbaf26d5ba32"
   },
   "outputs": [
    {
     "data": {
      "text/plain": [
       "(450, 2000)"
      ]
     },
     "execution_count": 5,
     "metadata": {},
     "output_type": "execute_result"
    }
   ],
   "source": [
    "X[2].min(), X[2].max()"
   ]
  },
  {
   "cell_type": "code",
   "execution_count": 6,
   "metadata": {
    "colab": {
     "base_uri": "https://localhost:8080/",
     "height": 121
    },
    "colab_type": "code",
    "id": "E55S9Bzob9Xa",
    "outputId": "4abf56a2-d484-4c24-8520-8ed1b58ccca8"
   },
   "outputs": [
    {
     "data": {
      "text/plain": [
       "array([[1.00e+00, 1.00e+00, 1.00e+00, 1.00e+00, 1.00e+00, 1.00e+00,\n",
       "        1.00e+00, 1.00e+00, 1.00e+00, 1.00e+00],\n",
       "       [1.00e+00, 1.00e+00, 2.00e+00, 5.00e+00, 3.00e+00, 0.00e+00,\n",
       "        5.00e+00, 1.00e+01, 1.00e+00, 2.00e+00],\n",
       "       [5.00e+02, 7.00e+02, 7.50e+02, 6.00e+02, 1.45e+03, 8.00e+02,\n",
       "        1.50e+03, 2.00e+03, 4.50e+02, 1.00e+03],\n",
       "       [1.00e+00, 1.00e+00, 2.00e+00, 1.00e+00, 2.00e+00, 1.00e+00,\n",
       "        3.00e+00, 3.00e+00, 1.00e+00, 2.00e+00]])"
      ]
     },
     "execution_count": 6,
     "metadata": {},
     "output_type": "execute_result"
    }
   ],
   "source": [
    "X_norm = X.copy()\n",
    "X_norm = X_norm.astype(np.float64)\n",
    "X_norm"
   ]
  },
  {
   "cell_type": "code",
   "execution_count": 7,
   "metadata": {
    "colab": {
     "base_uri": "https://localhost:8080/",
     "height": 121
    },
    "colab_type": "code",
    "id": "7x-6IuPOcIo0",
    "outputId": "1668fec7-37ae-4671-ad9f-f093c30a6c72"
   },
   "outputs": [
    {
     "data": {
      "text/plain": [
       "array([[1.00e+00, 1.00e+00, 1.00e+00, 1.00e+00, 1.00e+00, 1.00e+00,\n",
       "        1.00e+00, 1.00e+00, 1.00e+00, 1.00e+00],\n",
       "       [1.00e-01, 1.00e-01, 2.00e-01, 5.00e-01, 3.00e-01, 0.00e+00,\n",
       "        5.00e-01, 1.00e+00, 1.00e-01, 2.00e-01],\n",
       "       [5.00e+02, 7.00e+02, 7.50e+02, 6.00e+02, 1.45e+03, 8.00e+02,\n",
       "        1.50e+03, 2.00e+03, 4.50e+02, 1.00e+03],\n",
       "       [1.00e+00, 1.00e+00, 2.00e+00, 1.00e+00, 2.00e+00, 1.00e+00,\n",
       "        3.00e+00, 3.00e+00, 1.00e+00, 2.00e+00]])"
      ]
     },
     "execution_count": 7,
     "metadata": {},
     "output_type": "execute_result"
    }
   ],
   "source": [
    "X_norm[1] = (X[1] - X[1].min()) / (X[1].max() - X[1].min())\n",
    "X_norm"
   ]
  },
  {
   "cell_type": "code",
   "execution_count": 8,
   "metadata": {
    "colab": {
     "base_uri": "https://localhost:8080/",
     "height": 121
    },
    "colab_type": "code",
    "id": "izkMRdXFcjyK",
    "outputId": "982b8c8d-629d-4c4a-a3d5-67854cee4a4a"
   },
   "outputs": [
    {
     "data": {
      "text/plain": [
       "array([[1.        , 1.        , 1.        , 1.        , 1.        ,\n",
       "        1.        , 1.        , 1.        , 1.        , 1.        ],\n",
       "       [0.1       , 0.1       , 0.2       , 0.5       , 0.3       ,\n",
       "        0.        , 0.5       , 1.        , 0.1       , 0.2       ],\n",
       "       [0.03225806, 0.16129032, 0.19354839, 0.09677419, 0.64516129,\n",
       "        0.22580645, 0.67741935, 1.        , 0.        , 0.35483871],\n",
       "       [1.        , 1.        , 2.        , 1.        , 2.        ,\n",
       "        1.        , 3.        , 3.        , 1.        , 2.        ]])"
      ]
     },
     "execution_count": 8,
     "metadata": {},
     "output_type": "execute_result"
    }
   ],
   "source": [
    "X_norm[2] = (X[2] - X[2].min()) / (X[2].max() - X[2].min())\n",
    "X_norm"
   ]
  },
  {
   "cell_type": "markdown",
   "metadata": {
    "colab": {},
    "colab_type": "code",
    "id": "Zy63bpFfeqzu"
   },
   "source": [
    "Стандартизация"
   ]
  },
  {
   "cell_type": "code",
   "execution_count": 9,
   "metadata": {
    "colab": {
     "base_uri": "https://localhost:8080/",
     "height": 317
    },
    "colab_type": "code",
    "id": "8i9pB-3-fMD4",
    "outputId": "3cbe76f6-d000-4fcd-fe86-ffe853403356"
   },
   "outputs": [
    {
     "data": {
      "image/png": "[encoded data removed]",
      "text/plain": [
       "<Figure size 432x288 with 1 Axes>"
      ]
     },
     "metadata": {
      "needs_background": "light"
     },
     "output_type": "display_data"
    }
   ],
   "source": [
    "plt.hist(X[1])\n",
    "plt.show()"
   ]
  },
  {
   "cell_type": "code",
   "execution_count": 10,
   "metadata": {
    "colab": {
     "base_uri": "https://localhost:8080/",
     "height": 335
    },
    "colab_type": "code",
    "id": "-bnAYQqVfRX-",
    "outputId": "d59b0013-49bc-40fa-cb29-e71403e6e9e0"
   },
   "outputs": [
    {
     "data": {
      "image/png": "[encoded data removed]",
      "text/plain": [
       "<Figure size 432x288 with 1 Axes>"
      ]
     },
     "metadata": {
      "needs_background": "light"
     },
     "output_type": "display_data"
    }
   ],
   "source": [
    "plt.hist(X[2])\n",
    "plt.show()"
   ]
  },
  {
   "cell_type": "code",
   "execution_count": 11,
   "metadata": {
    "colab": {},
    "colab_type": "code",
    "id": "M57-Pzl_f_rF"
   },
   "outputs": [
    {
     "name": "stdout",
     "output_type": "stream",
     "text": [
      "3.0 2.8284271247461903\n"
     ]
    }
   ],
   "source": [
    "X_st = X.copy().astype(np.float64)\n",
    "X1_mean = X[1].mean()\n",
    "X1_std = X[1].std()\n",
    "print(X1_mean, X1_std)"
   ]
  },
  {
   "cell_type": "code",
   "execution_count": 12,
   "metadata": {
    "colab": {
     "base_uri": "https://localhost:8080/",
     "height": 294
    },
    "colab_type": "code",
    "id": "btJMY0YbgKLb",
    "outputId": "40010205-def9-4582-9a5d-e513e85b7a4e"
   },
   "outputs": [
    {
     "data": {
      "text/plain": [
       "array([[ 1.00000000e+00,  1.00000000e+00,  1.00000000e+00,\n",
       "         1.00000000e+00,  1.00000000e+00,  1.00000000e+00,\n",
       "         1.00000000e+00,  1.00000000e+00,  1.00000000e+00,\n",
       "         1.00000000e+00],\n",
       "       [-7.07106781e-01, -7.07106781e-01, -3.53553391e-01,\n",
       "         7.07106781e-01,  0.00000000e+00, -1.06066017e+00,\n",
       "         7.07106781e-01,  2.47487373e+00, -7.07106781e-01,\n",
       "        -3.53553391e-01],\n",
       "       [ 5.00000000e+02,  7.00000000e+02,  7.50000000e+02,\n",
       "         6.00000000e+02,  1.45000000e+03,  8.00000000e+02,\n",
       "         1.50000000e+03,  2.00000000e+03,  4.50000000e+02,\n",
       "         1.00000000e+03],\n",
       "       [ 1.00000000e+00,  1.00000000e+00,  2.00000000e+00,\n",
       "         1.00000000e+00,  2.00000000e+00,  1.00000000e+00,\n",
       "         3.00000000e+00,  3.00000000e+00,  1.00000000e+00,\n",
       "         2.00000000e+00]])"
      ]
     },
     "execution_count": 12,
     "metadata": {},
     "output_type": "execute_result"
    }
   ],
   "source": [
    "X_st[1] = (X[1] - X1_mean) / X1_std\n",
    "X_st"
   ]
  },
  {
   "cell_type": "code",
   "execution_count": 13,
   "metadata": {
    "colab": {
     "base_uri": "https://localhost:8080/",
     "height": 352
    },
    "colab_type": "code",
    "id": "-Y1tzWGCgYjA",
    "outputId": "89dc21fe-180f-4e68-f30f-1cf276c4f154"
   },
   "outputs": [
    {
     "data": {
      "image/png": "[encoded data removed]",
      "text/plain": [
       "<Figure size 432x288 with 1 Axes>"
      ]
     },
     "metadata": {
      "needs_background": "light"
     },
     "output_type": "display_data"
    }
   ],
   "source": [
    "plt.hist(X_st[1])\n",
    "plt.show()"
   ]
  },
  {
   "cell_type": "code",
   "execution_count": 14,
   "metadata": {
    "colab": {},
    "colab_type": "code",
    "id": "ZlJUBOyzgkJV"
   },
   "outputs": [],
   "source": [
    "def calc_std_fit(x):\n",
    "    res = (x - x.mean()) / x.std()\n",
    "    return res"
   ]
  },
  {
   "cell_type": "code",
   "execution_count": 15,
   "metadata": {
    "colab": {},
    "colab_type": "code",
    "id": "6PlDlFY0hGZA"
   },
   "outputs": [],
   "source": [
    "X_st[2] = calc_std_fit(X[2])"
   ]
  },
  {
   "cell_type": "code",
   "execution_count": 16,
   "metadata": {
    "colab": {
     "base_uri": "https://localhost:8080/",
     "height": 155
    },
    "colab_type": "code",
    "id": "LOKhmhJjt9TR",
    "outputId": "2b131d78-9066-462b-dfa9-778758f3d363"
   },
   "outputs": [
    {
     "data": {
      "text/plain": [
       "array([[ 1.        ,  1.        ,  1.        ,  1.        ,  1.        ,\n",
       "         1.        ,  1.        ,  1.        ,  1.        ,  1.        ],\n",
       "       [-0.70710678, -0.70710678, -0.35355339,  0.70710678,  0.        ,\n",
       "        -1.06066017,  0.70710678,  2.47487373, -0.70710678, -0.35355339],\n",
       "       [-0.97958969, -0.56713087, -0.46401617, -0.77336028,  0.97958969,\n",
       "        -0.36090146,  1.08270439,  2.11385144, -1.08270439,  0.05155735],\n",
       "       [-0.89625816, -0.89625816,  0.38411064, -0.89625816,  0.38411064,\n",
       "        -0.89625816,  1.66447944,  1.66447944, -0.89625816,  0.38411064]])"
      ]
     },
     "execution_count": 16,
     "metadata": {},
     "output_type": "execute_result"
    }
   ],
   "source": [
    "X_st[3] = calc_std_fit(X[3])\n",
    "X_st"
   ]
  },
  {
   "cell_type": "markdown",
   "metadata": {
    "colab": {},
    "colab_type": "code",
    "id": "UdGy9tjVhZol"
   },
   "source": [
    "SGD (Stochastic gradient descent)"
   ]
  },
  {
   "cell_type": "code",
   "execution_count": 17,
   "metadata": {
    "colab": {},
    "colab_type": "code",
    "id": "VDpN7UxYnrcS"
   },
   "outputs": [],
   "source": [
    "def calc_mse(y, y_pred):\n",
    "    err = np.mean((y - y_pred)**2)\n",
    "    return err"
   ]
  },
  {
   "cell_type": "code",
   "execution_count": 18,
   "metadata": {
    "colab": {},
    "colab_type": "code",
    "id": "SgEyis2zlJeb"
   },
   "outputs": [],
   "source": [
    "def eval_model(X, y, iterations, alpha=1e-4):\n",
    "    W = np.random.randn(X.shape[0])\n",
    "    n = X.shape[1]\n",
    "    for i in range(1, iterations+1):\n",
    "        y_pred = np.dot(W, X)\n",
    "        err = calc_mse(y, y_pred)\n",
    "        W -= (alpha * (1/n * 2 * np.dot((y_pred - y), X.T)))\n",
    "        if i % (iterations / 10) == 0:\n",
    "            print(i, W, err)\n",
    "    return W"
   ]
  },
  {
   "cell_type": "code",
   "execution_count": 19,
   "metadata": {
    "colab": {
     "base_uri": "https://localhost:8080/",
     "height": 207
    },
    "colab_type": "code",
    "id": "4nsYMAGjmFlB",
    "outputId": "8959a8af-3d27-42a6-afae-5db46c794fe1"
   },
   "outputs": [
    {
     "name": "stdout",
     "output_type": "stream",
     "text": [
      "100 [49.16152633  4.92187044  3.74295825  3.63888245] 83.8686777591771\n",
      "200 [55.52677488  5.33545805  2.95584731  4.10556176] 27.76130884971163\n",
      "300 [56.37093132  5.59365189  2.31880965  4.51135571] 26.150233393753666\n",
      "400 [56.48288297  5.76852509  1.81060314  4.86450934] 25.716643155120174\n",
      "500 [56.49772995  5.8914703   1.40248818  5.16476929] 25.44265041382003\n",
      "600 [56.49969895  5.98087251  1.0732048   5.41636343] 25.26172188031118\n",
      "700 [56.49996007  6.04778026  0.80665926  5.62522477] 25.141786597352684\n",
      "800 [56.49999471  6.09902687  0.59041504  5.79756204] 25.06217767377951\n",
      "900 [56.4999993   6.13898349  0.414711    5.93919368] 25.00930448965551\n",
      "1000 [56.49999991  6.17055164  0.27179804  6.0552806 ] 24.9741785594599\n"
     ]
    },
    {
     "data": {
      "text/plain": [
       "array([56.49999991,  6.17055164,  0.27179804,  6.0552806 ])"
      ]
     },
     "execution_count": 19,
     "metadata": {},
     "output_type": "execute_result"
    }
   ],
   "source": [
    "eval_model(X_st, y, iterations=1000, alpha=1e-2)"
   ]
  },
  {
   "cell_type": "code",
   "execution_count": 20,
   "metadata": {},
   "outputs": [],
   "source": [
    "def eval_sgd_model(X, y, iterations, qty_in_batch, alpha=1e-4):\n",
    "    W = np.random.randn(X.shape[0])\n",
    "    n = X.shape[1]\n",
    "    n_batch = n // qty_in_batch\n",
    "    \n",
    "    if n % qty_in_batch != 0:\n",
    "        n_batch += 1\n",
    "        \n",
    "    for i in range(1, iterations+1):\n",
    "        for b in range(n_batch):\n",
    "            start_ = qty_in_batch*b\n",
    "            end_ = qty_in_batch*(b+1)\n",
    "#             print(b, n_batch, start_, end_)\n",
    "            X_tmp = X[:, start_ : end_]\n",
    "            y_tmp = y[start_ : end_]\n",
    "\n",
    "            y_pred_tmp = np.dot(W, X_tmp)\n",
    "            err = calc_mse(y_tmp, y_pred_tmp)\n",
    "\n",
    "            W -= (alpha * (1/n * 2 * np.dot((y_pred_tmp - y_tmp), X_tmp.T)))\n",
    "        \n",
    "        if i % (iterations / 10) == 0:\n",
    "            print(i, W, err)\n",
    "    return W"
   ]
  },
  {
   "cell_type": "code",
   "execution_count": 21,
   "metadata": {
    "colab": {
     "base_uri": "https://localhost:8080/",
     "height": 207
    },
    "colab_type": "code",
    "id": "2aXap4Vsm3GV",
    "outputId": "8b666b76-9d01-4b6d-813c-f1d3f5901f5f"
   },
   "outputs": [
    {
     "name": "stdout",
     "output_type": "stream",
     "text": [
      "5000 [56.51062031  6.31269487 -0.36445673  6.58451458] 11.289358357594917\n",
      "10000 [56.51062035  6.31272262 -0.3645908   6.58462533] 11.289182005731547\n",
      "15000 [56.51062035  6.31272262 -0.3645908   6.58462533] 11.289181999330378\n",
      "20000 [56.51062035  6.31272262 -0.3645908   6.58462533] 11.289181999330424\n",
      "25000 [56.51062035  6.31272262 -0.3645908   6.58462533] 11.289181999330424\n",
      "30000 [56.51062035  6.31272262 -0.3645908   6.58462533] 11.289181999330424\n",
      "35000 [56.51062035  6.31272262 -0.3645908   6.58462533] 11.289181999330424\n",
      "40000 [56.51062035  6.31272262 -0.3645908   6.58462533] 11.289181999330424\n",
      "45000 [56.51062035  6.31272262 -0.3645908   6.58462533] 11.289181999330424\n",
      "50000 [56.51062035  6.31272262 -0.3645908   6.58462533] 11.289181999330424\n"
     ]
    },
    {
     "data": {
      "text/plain": [
       "array([56.51062035,  6.31272262, -0.3645908 ,  6.58462533])"
      ]
     },
     "execution_count": 21,
     "metadata": {},
     "output_type": "execute_result"
    }
   ],
   "source": [
    "eval_sgd_model(X_st, y, iterations=50000, qty_in_batch=4, alpha=1e-2)"
   ]
  },
  {
   "cell_type": "markdown",
   "metadata": {
    "colab": {},
    "colab_type": "code",
    "id": "DYTxT_6OrZpe"
   },
   "source": [
    "L1 регуляризация"
   ]
  },
  {
   "cell_type": "raw",
   "metadata": {
    "colab": {},
    "colab_type": "code",
    "id": "Ojkn7xKrsyiw"
   },
   "source": [
    "f(x, W) + (lambda_/2) * np.sum(np.abs(W))"
   ]
  },
  {
   "cell_type": "markdown",
   "metadata": {
    "colab": {},
    "colab_type": "code",
    "id": "j38vId7Hvtg0"
   },
   "source": [
    "L2 регуляризация"
   ]
  },
  {
   "cell_type": "code",
   "execution_count": 22,
   "metadata": {},
   "outputs": [],
   "source": [
    "# lambda = lambda_/2"
   ]
  },
  {
   "cell_type": "raw",
   "metadata": {
    "colab": {},
    "colab_type": "code",
    "id": "KO5BtZ7svv4k"
   },
   "source": [
    "f'(x, W) + 2*(lambda_)* np.sum(W)))"
   ]
  },
  {
   "cell_type": "code",
   "execution_count": 23,
   "metadata": {
    "colab": {},
    "colab_type": "code",
    "id": "7AVoe1Mswjni"
   },
   "outputs": [],
   "source": [
    "def eval_model_reg2(X, y, iterations, alpha=1e-4, lambda_=1e-8):\n",
    "    np.random.seed(42)\n",
    "    W = np.random.randn(X.shape[0])\n",
    "    n = X.shape[1]\n",
    "    for i in range(1, iterations+1):\n",
    "        y_pred = np.dot(W, X)\n",
    "        err = calc_mse(y, y_pred)\n",
    "        W -= alpha * (1/n * 2 * np.dot((y_pred - y), X.T) + lambda_ * W) \n",
    "#         if i % (iterations / 10) == 0:\n",
    "#              print(i, W, err)\n",
    "    return W"
   ]
  },
  {
   "cell_type": "code",
   "execution_count": 24,
   "metadata": {
    "colab": {
     "base_uri": "https://localhost:8080/",
     "height": 207
    },
    "colab_type": "code",
    "id": "vLJL6j8Lw6OA",
    "outputId": "dac9ef42-5966-4404-9346-aeb18cca83c6"
   },
   "outputs": [
    {
     "name": "stdout",
     "output_type": "stream",
     "text": [
      "500 [56.49487895  5.89947315  1.04054601  5.5270874 ] 25.237558323310957\n",
      "1000 [56.49717505  6.19501568  0.13564839  6.17098435] 24.947089650389493\n",
      "1500 [56.49717514  6.26565597 -0.17868956  6.42516923] 24.91020088702008\n",
      "2000 [56.49717514  6.28924463 -0.29120292  6.51776763] 24.905377672807813\n",
      "2500 [56.49717514  6.29763759 -0.33165155  6.55113988] 24.904735047224673\n",
      "3000 [56.49717514  6.30065228 -0.3462019   6.56314895] 24.904645262343745\n",
      "3500 [56.49717514  6.3017366  -0.35143648  6.56746949] 24.904631263168557\n",
      "4000 [56.49717514  6.30212668 -0.35331967  6.56902387] 24.904628595590744\n",
      "4500 [56.49717514  6.30226702 -0.35399717  6.56958307] 24.90462794248662\n",
      "5000 [56.49717514  6.30231751 -0.35424091  6.56978425] 24.904627747206018\n"
     ]
    }
   ],
   "source": [
    "W = eval_model_reg2(X_st, y, iterations=5000, alpha=1e-2, lambda_=1e-4)"
   ]
  },
  {
   "cell_type": "code",
   "execution_count": 25,
   "metadata": {},
   "outputs": [
    {
     "data": {
      "text/plain": [
       "array([56.49717514,  6.30231751, -0.35424091,  6.56978425])"
      ]
     },
     "execution_count": 25,
     "metadata": {},
     "output_type": "execute_result"
    }
   ],
   "source": [
    "W"
   ]
  },
  {
   "cell_type": "code",
   "execution_count": 26,
   "metadata": {
    "colab": {
     "base_uri": "https://localhost:8080/",
     "height": 207
    },
    "colab_type": "code",
    "id": "4nsYMAGjmFlB",
    "outputId": "8959a8af-3d27-42a6-afae-5db46c794fe1"
   },
   "outputs": [
    {
     "name": "stdout",
     "output_type": "stream",
     "text": [
      "500 [56.49767254  5.83477719  1.36781865  5.25424451] 25.413829625514786\n",
      "1000 [56.4999999   6.17124081  0.25269258  6.07416416] 24.969784391475404\n",
      "1500 [56.5         6.2575128  -0.13774522  6.39128671] 24.913059475565486\n",
      "2000 [56.5         6.28678323 -0.27772011  6.50655795] 24.90571241785009\n",
      "2500 [56.5         6.29722767 -0.32807425  6.54810646] 24.904760553791704\n",
      "3000 [56.5         6.30098239 -0.34619733  6.56306445] 24.904637232271696\n",
      "3500 [56.5         6.30233363 -0.3527205   6.5684486 ] 24.9046212549912\n",
      "4000 [56.5         6.30281999 -0.35506846  6.57038658] 24.904619185007856\n",
      "4500 [56.5         6.30299505 -0.35591359  6.57108415] 24.904618916825108\n",
      "5000 [56.5         6.30305806 -0.35621778  6.57133523] 24.904618882079912\n"
     ]
    },
    {
     "data": {
      "text/plain": [
       "array([56.5       ,  6.30305806, -0.35621778,  6.57133523])"
      ]
     },
     "execution_count": 26,
     "metadata": {},
     "output_type": "execute_result"
    }
   ],
   "source": [
    "eval_model(X_st, y, iterations=5000, alpha=1e-2)"
   ]
  },
  {
   "cell_type": "markdown",
   "metadata": {},
   "source": [
    "## Д/з"
   ]
  },
  {
   "cell_type": "markdown",
   "metadata": {},
   "source": [
    "* Постройте график зависимости весов всех признаков от lambda в L2-регуляризации (на данных из урока). Сделайте вывод"
   ]
  },
  {
   "cell_type": "code",
   "execution_count": 27,
   "metadata": {},
   "outputs": [
    {
     "data": {
      "text/plain": [
       "array([1.00000000e-05, 5.55556444e+00, 1.11111189e+01, 1.66666733e+01,\n",
       "       2.22222278e+01, 2.77777822e+01, 3.33333367e+01, 3.88888911e+01,\n",
       "       4.44444456e+01, 5.00000000e+01])"
      ]
     },
     "execution_count": 27,
     "metadata": {},
     "output_type": "execute_result"
    }
   ],
   "source": [
    "lam = np.linspace(1e-5, 50, 10)\n",
    "lam"
   ]
  },
  {
   "cell_type": "code",
   "execution_count": 28,
   "metadata": {},
   "outputs": [],
   "source": [
    "weights = []"
   ]
  },
  {
   "cell_type": "code",
   "execution_count": 34,
   "metadata": {},
   "outputs": [
    {
     "name": "stdout",
     "output_type": "stream",
     "text": [
      "500 [56.49742015  5.89981731  1.04002088  5.52750782] 25.237259255530226\n",
      "1000 [56.49971741  6.19554246  0.1345155   6.17185235] 24.946884474315056\n",
      "1500 [56.4997175   6.26626162 -0.18017709  6.42632479] 24.910100012607877\n",
      "2000 [56.4997175   6.28988752 -0.29286827  6.51906958] 24.905331877733744\n",
      "2500 [56.4997175   6.29829753 -0.33339911  6.55250966] 24.904712354520164\n",
      "3000 [56.4997175   6.3013197  -0.34798561  6.56454856] 24.9046314355641\n",
      "3500 [56.4997175   6.30240721 -0.35323555  6.56888179] 24.904620714331248\n",
      "4000 [56.4997175   6.30279862 -0.35512513  6.57044143] 24.90461923957474\n",
      "4500 [56.4997175   6.30293949 -0.35580523  6.57100279] 24.90461901761903\n",
      "5000 [56.4997175   6.3029902  -0.35605002  6.57120483] 24.9046189777411\n",
      "500 [14.95586476  2.08110622  1.8535179   2.02764599] 1789.4409142810564\n",
      "1000 [14.95586476  2.08110622  1.8535179   2.02764599] 1789.4409142810568\n",
      "1500 [14.95586476  2.08110622  1.8535179   2.02764599] 1789.4409142810568\n",
      "2000 [14.95586476  2.08110622  1.8535179   2.02764599] 1789.4409142810568\n",
      "2500 [14.95586476  2.08110622  1.8535179   2.02764599] 1789.4409142810568\n",
      "3000 [14.95586476  2.08110622  1.8535179   2.02764599] 1789.4409142810568\n",
      "3500 [14.95586476  2.08110622  1.8535179   2.02764599] 1789.4409142810568\n",
      "4000 [14.95586476  2.08110622  1.8535179   2.02764599] 1789.4409142810568\n",
      "4500 [14.95586476  2.08110622  1.8535179   2.02764599] 1789.4409142810568\n",
      "5000 [14.95586476  2.08110622  1.8535179   2.02764599] 1789.4409142810568\n",
      "500 [8.61863896 1.34831658 1.2503903  1.33142597] 2382.2418776412314\n",
      "1000 [8.61863896 1.34831658 1.2503903  1.33142597] 2382.2418776412314\n",
      "1500 [8.61863896 1.34831658 1.2503903  1.33142597] 2382.2418776412314\n",
      "2000 [8.61863896 1.34831658 1.2503903  1.33142597] 2382.2418776412314\n",
      "2500 [8.61863896 1.34831658 1.2503903  1.33142597] 2382.2418776412314\n",
      "3000 [8.61863896 1.34831658 1.2503903  1.33142597] 2382.2418776412314\n",
      "3500 [8.61863896 1.34831658 1.2503903  1.33142597] 2382.2418776412314\n",
      "4000 [8.61863896 1.34831658 1.2503903  1.33142597] 2382.2418776412314\n",
      "4500 [8.61863896 1.34831658 1.2503903  1.33142597] 2382.2418776412314\n",
      "5000 [8.61863896 1.34831658 1.2503903  1.33142597] 2382.2418776412314\n",
      "500 [6.05356927 0.99945076 0.9399689  0.99188089] 2649.88442447096\n",
      "1000 [6.05356927 0.99945076 0.9399689  0.99188089] 2649.88442447096\n",
      "1500 [6.05356927 0.99945076 0.9399689  0.99188089] 2649.88442447096\n",
      "2000 [6.05356927 0.99945076 0.9399689  0.99188089] 2649.88442447096\n",
      "2500 [6.05356927 0.99945076 0.9399689  0.99188089] 2649.88442447096\n",
      "3000 [6.05356927 0.99945076 0.9399689  0.99188089] 2649.88442447096\n",
      "3500 [6.05356927 0.99945076 0.9399689  0.99188089] 2649.88442447096\n",
      "4000 [6.05356927 0.99945076 0.9399689  0.99188089] 2649.88442447096\n",
      "4500 [6.05356927 0.99945076 0.9399689  0.99188089] 2649.88442447096\n",
      "5000 [6.05356927 0.99945076 0.9399689  0.99188089] 2649.88442447096\n",
      "500 [4.66513654 0.79440013 0.75247262 0.79044457] 2801.883311495302\n",
      "1000 [4.66513654 0.79440013 0.75247262 0.79044457] 2801.883311495302\n",
      "1500 [4.66513654 0.79440013 0.75247262 0.79044457] 2801.883311495302\n",
      "2000 [4.66513654 0.79440013 0.75247262 0.79044457] 2801.883311495302\n",
      "2500 [4.66513654 0.79440013 0.75247262 0.79044457] 2801.883311495302\n",
      "3000 [4.66513654 0.79440013 0.75247262 0.79044457] 2801.883311495302\n",
      "3500 [4.66513654 0.79440013 0.75247262 0.79044457] 2801.883311495302\n",
      "4000 [4.66513654 0.79440013 0.75247262 0.79044457] 2801.883311495302\n",
      "4500 [4.66513654 0.79440013 0.75247262 0.79044457] 2801.883311495302\n",
      "5000 [4.66513654 0.79440013 0.75247262 0.79044457] 2801.883311495302\n",
      "500 [3.79477555 0.65927626 0.62718401 0.65704595] 2899.828737266158\n",
      "1000 [3.79477555 0.65927626 0.62718401 0.65704595] 2899.828737266158\n",
      "1500 [3.79477555 0.65927626 0.62718401 0.65704595] 2899.828737266158\n",
      "2000 [3.79477555 0.65927626 0.62718401 0.65704595] 2899.828737266158\n",
      "2500 [3.79477555 0.65927626 0.62718401 0.65704595] 2899.828737266158\n",
      "3000 [3.79477555 0.65927626 0.62718401 0.65704595] 2899.828737266158\n",
      "3500 [3.79477555 0.65927626 0.62718401 0.65704595] 2899.828737266158\n",
      "4000 [3.79477555 0.65927626 0.62718401 0.65704595] 2899.828737266158\n",
      "4500 [3.79477555 0.65927626 0.62718401 0.65704595] 2899.828737266158\n",
      "5000 [3.79477555 0.65927626 0.62718401 0.65704595] 2899.828737266158\n",
      "500 [3.19811291 0.56347995 0.53760561 0.56218291] 2968.1935105403363\n",
      "1000 [3.19811291 0.56347995 0.53760561 0.56218291] 2968.1935105403363\n",
      "1500 [3.19811291 0.56347995 0.53760561 0.56218291] 2968.1935105403363\n",
      "2000 [3.19811291 0.56347995 0.53760561 0.56218291] 2968.1935105403363\n",
      "2500 [3.19811291 0.56347995 0.53760561 0.56218291] 2968.1935105403363\n",
      "3000 [3.19811291 0.56347995 0.53760561 0.56218291] 2968.1935105403363\n",
      "3500 [3.19811291 0.56347995 0.53760561 0.56218291] 2968.1935105403363\n",
      "4000 [3.19811291 0.56347995 0.53760561 0.56218291] 2968.1935105403363\n",
      "4500 [3.19811291 0.56347995 0.53760561 0.56218291] 2968.1935105403363\n",
      "5000 [3.19811291 0.56347995 0.53760561 0.56218291] 2968.1935105403363\n",
      "500 [2.76358681 0.4920096  0.47039294 0.49126114] 3018.6183714211857\n",
      "1000 [2.76358681 0.4920096  0.47039294 0.49126114] 3018.6183714211857\n",
      "1500 [2.76358681 0.4920096  0.47039294 0.49126114] 3018.6183714211857\n",
      "2000 [2.76358681 0.4920096  0.47039294 0.49126114] 3018.6183714211857\n",
      "2500 [2.76358681 0.4920096  0.47039294 0.49126114] 3018.6183714211857\n",
      "3000 [2.76358681 0.4920096  0.47039294 0.49126114] 3018.6183714211857\n",
      "3500 [2.76358681 0.4920096  0.47039294 0.49126114] 3018.6183714211857\n",
      "4000 [2.76358681 0.4920096  0.47039294 0.49126114] 3018.6183714211857\n",
      "4500 [2.76358681 0.4920096  0.47039294 0.49126114] 3018.6183714211857\n",
      "5000 [2.76358681 0.4920096  0.47039294 0.49126114] 3018.6183714211857\n",
      "500 [2.4330143  0.43663794 0.4181066  0.43623139] 3057.345384170432\n",
      "1000 [2.4330143  0.43663794 0.4181066  0.43623139] 3057.345384170432\n",
      "1500 [2.4330143  0.43663794 0.4181066  0.43623139] 3057.345384170432\n",
      "2000 [2.4330143  0.43663794 0.4181066  0.43623139] 3057.345384170432\n",
      "2500 [2.4330143  0.43663794 0.4181066  0.43623139] 3057.345384170432\n",
      "3000 [2.4330143  0.43663794 0.4181066  0.43623139] 3057.345384170432\n",
      "3500 [2.4330143  0.43663794 0.4181066  0.43623139] 3057.345384170432\n",
      "4000 [2.4330143  0.43663794 0.4181066  0.43623139] 3057.345384170432\n",
      "4500 [2.4330143  0.43663794 0.4181066  0.43623139] 3057.345384170432\n",
      "5000 [2.4330143  0.43663794 0.4181066  0.43623139] 3057.345384170432\n",
      "500 [2.17307692 0.39247379 0.37627465 0.39228959] 3088.0219716376946\n",
      "1000 [2.17307692 0.39247379 0.37627465 0.39228959] 3088.0219716376946\n",
      "1500 [2.17307692 0.39247379 0.37627465 0.39228959] 3088.0219716376946\n",
      "2000 [2.17307692 0.39247379 0.37627465 0.39228959] 3088.0219716376946\n",
      "2500 [2.17307692 0.39247379 0.37627465 0.39228959] 3088.0219716376946\n",
      "3000 [2.17307692 0.39247379 0.37627465 0.39228959] 3088.0219716376946\n",
      "3500 [2.17307692 0.39247379 0.37627465 0.39228959] 3088.0219716376946\n",
      "4000 [2.17307692 0.39247379 0.37627465 0.39228959] 3088.0219716376946\n",
      "4500 [2.17307692 0.39247379 0.37627465 0.39228959] 3088.0219716376946\n",
      "5000 [2.17307692 0.39247379 0.37627465 0.39228959] 3088.0219716376946\n"
     ]
    }
   ],
   "source": [
    "for i in lam:\n",
    "    W = eval_model_reg2(X_st, y, iterations=5000, alpha=1e-2, lambda_=i)\n",
    "    weights.append(W)"
   ]
  },
  {
   "cell_type": "code",
   "execution_count": 30,
   "metadata": {},
   "outputs": [
    {
     "data": {
      "text/plain": [
       "Text(0, 0.5, 'Значения весов')"
      ]
     },
     "execution_count": 30,
     "metadata": {},
     "output_type": "execute_result"
    },
    {
     "data": {
      "image/png": "[encoded data removed]",
      "text/plain": [
       "<Figure size 432x288 with 1 Axes>"
      ]
     },
     "metadata": {
      "needs_background": "light"
     },
     "output_type": "display_data"
    }
   ],
   "source": [
    "plt.plot(lam, weights)\n",
    "plt.xlabel('Параметр lambda')\n",
    "plt.ylabel('Значения весов')"
   ]
  },
  {
   "cell_type": "code",
   "execution_count": 31,
   "metadata": {},
   "outputs": [
    {
     "name": "stdout",
     "output_type": "stream",
     "text": [
      "Значение весов = [56.4997175   6.3029902  -0.35605002  6.57120483], mse = 127682.09688620231\n",
      "Значение весов = [14.95586476  2.08110622  1.8535179   2.02764599], mse = 3951674.5511388844\n",
      "Значение весов = [8.61863896 1.34831658 1.2503903  1.33142597], mse = 1746419.2205513243\n",
      "Значение весов = [6.05356927 0.99945076 0.9399689  0.99188089], mse = 959101.0100813924\n",
      "Значение весов = [4.66513654 0.79440013 0.75247262 0.79044457], mse = 597287.8558314512\n",
      "Значение весов = [3.79477555 0.65927626 0.62718401 0.65704595], mse = 403144.5536218256\n",
      "Значение весов = [3.19811291 0.56347995 0.53760561 0.56218291], mse = 287699.4179037759\n",
      "Значение весов = [2.76358681 0.4920096  0.47039294 0.49126114], mse = 213859.88388366508\n",
      "Значение весов = [2.4330143  0.43663794 0.4181066  0.43623139], mse = 163992.43689074114\n",
      "Значение весов = [2.17307692 0.39247379 0.37627465 0.39228959], mse = 128866.50664359669\n"
     ]
    }
   ],
   "source": [
    "for i in weights:\n",
    "    y_pred = np.dot(i, X)\n",
    "    err = calc_mse(y, y_pred)\n",
    "    print(f'Значение весов = {i}, mse = {err}')"
   ]
  },
  {
   "cell_type": "markdown",
   "metadata": {},
   "source": [
    "С увеличением lambda значения весов стремятся к 0, что уложняет модель. Оптимальный параметр = 1e-5"
   ]
  },
  {
   "cell_type": "markdown",
   "metadata": {},
   "source": [
    "* Можно ли к одному и тому же признаку применить сразу и нормализацию, и стандартизацию?"
   ]
  },
  {
   "cell_type": "markdown",
   "metadata": {},
   "source": [
    "Нет, нельзя. Перед запуском алгоритмов чаще всего делается либо нормализация, либо стандартизация. \n",
    "Нормализация предполагает замену признаков так, чтобы каждый из них лежал в диапазоне от 0 до 1 (является частным случаем минимаксного масштабирования). \n",
    "Стандартизация подразумевает такую предобработку данных, после которой каждый признак имеет среднее 0 и дисперсию 1. В результате стандартизации признаковые столбцы принимают вид нормального распределения, что упрощает извлечение весов. Стандартизация содержит полезную информацию о выбросах и делает алгоритм менее к ним чувствительным, в отличие от минимаксного масштабирования, которое шкалирует данные в ограниченном диапазоне значений."
   ]
  },
  {
   "cell_type": "markdown",
   "metadata": {},
   "source": [
    "* Напишите функцию наподобие eval_model_reg2, но для применения L1-регуляризации."
   ]
  },
  {
   "cell_type": "code",
   "execution_count": 32,
   "metadata": {},
   "outputs": [],
   "source": [
    "def eval_model_reg1(X, y, iterations, alpha=1e-4, lambda_=1e-8):\n",
    "    np.random.seed(42)\n",
    "    W = np.random.randn(X.shape[0])\n",
    "    n = X.shape[1]\n",
    "    for i in range(1, iterations+1):\n",
    "        y_pred = np.dot(W, X)\n",
    "        err = calc_mse(y, y_pred)\n",
    "        W -= alpha * (1/n * 2 * np.dot((y_pred - y), X.T) + lambda_ * W/np.abs(W)) \n",
    "        if i % (iterations / 10) == 0:\n",
    "             print(i, W, err)\n",
    "    return W"
   ]
  },
  {
   "cell_type": "code",
   "execution_count": 40,
   "metadata": {},
   "outputs": [
    {
     "name": "stdout",
     "output_type": "stream",
     "text": [
      "1000 [56.4999999   6.195601    0.13438958  6.17194881] 24.9468625045853\n",
      "2000 [56.49999999  6.28995895 -0.29305334  6.51921426] 24.90532765475869\n",
      "3000 [56.49999999  6.30139386 -0.34818383  6.5647041 ] 24.904630774069865\n",
      "4000 [56.49999999  6.30287328 -0.35532577  6.57059898] 24.904619076624133\n",
      "5000 [56.49999999  6.30306494 -0.35625107  6.57136271] 24.90461888026312\n",
      "6000 [56.49999999  6.30308978 -0.35637095  6.57146165] 24.904618876964985\n",
      "7000 [56.49999999  6.30309299 -0.35638648  6.57147447] 24.90461887690938\n",
      "8000 [56.49999999  6.30309341 -0.35638849  6.57147613] 24.904618876908405\n",
      "9000 [56.49999999  6.30309346 -0.35638875  6.57147635] 24.90461887690839\n",
      "10000 [56.49999999  6.30309347 -0.35638878  6.57147638] 24.90461887690838\n"
     ]
    },
    {
     "data": {
      "text/plain": [
       "array([56.49999999,  6.30309347, -0.35638878,  6.57147638])"
      ]
     },
     "execution_count": 40,
     "metadata": {},
     "output_type": "execute_result"
    }
   ],
   "source": [
    "eval_model_reg1(X_st, y, iterations=10000, alpha=0.01, lambda_=1e-8)"
   ]
  },
  {
   "cell_type": "code",
   "execution_count": null,
   "metadata": {},
   "outputs": [],
   "source": []
  },
  {
   "cell_type": "code",
   "execution_count": null,
   "metadata": {},
   "outputs": [],
   "source": []
  }
 ],
 "metadata": {
  "colab": {
   "collapsed_sections": [],
   "name": "Lesson2.ipynb",
   "provenance": []
  },
  "kernelspec": {
   "display_name": "Python 3",
   "language": "python",
   "name": "python3"
  },
  "language_info": {
   "codemirror_mode": {
    "name": "ipython",
    "version": 3
   },
   "file_extension": ".py",
   "mimetype": "text/x-python",
   "name": "python",
   "nbconvert_exporter": "python",
   "pygments_lexer": "ipython3",
   "version": "3.7.6"
  }
 },
 "nbformat": 4,
 "nbformat_minor": 1
}
